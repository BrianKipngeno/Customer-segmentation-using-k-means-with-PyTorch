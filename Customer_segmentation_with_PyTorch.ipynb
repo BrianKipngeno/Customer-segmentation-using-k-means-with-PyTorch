{
  "nbformat": 4,
  "nbformat_minor": 0,
  "metadata": {
    "colab": {
      "provenance": [],
      "toc_visible": true,
      "authorship_tag": "ABX9TyOqZqik765hcdHldcT8bwJ8",
      "include_colab_link": true
    },
    "kernelspec": {
      "name": "python3",
      "display_name": "Python 3"
    },
    "language_info": {
      "name": "python"
    }
  },
  "cells": [
    {
      "cell_type": "markdown",
      "metadata": {
        "id": "view-in-github",
        "colab_type": "text"
      },
      "source": [
        "<a href=\"https://colab.research.google.com/github/BrianKipngeno/Customer-segmentation-using-k-means-with-PyTorch/blob/main/Customer_segmentation_with_PyTorch.ipynb\" target=\"_parent\"><img src=\"https://colab.research.google.com/assets/colab-badge.svg\" alt=\"Open In Colab\"/></a>"
      ]
    },
    {
      "cell_type": "markdown",
      "source": [
        "## Customer segmentation using K-means  with PyTorch"
      ],
      "metadata": {
        "id": "PGi7JLQQWTDI"
      }
    },
    {
      "cell_type": "markdown",
      "source": [
        "Clustering is a type of unsupervised learning that involves grouping similar data points together based on certain characteristics. K-means is a popular clustering algorithm that partitions the dataset into K clusters, assigning each data point to the cluster with the nearest centroid. In our example, we will leverage K-means to our neural network to create clusters and make predictions.\n",
        "\n",
        "\n",
        "This can be beneficial as it allows the model to incorporate intrinsic data patterns that may aid in classification. By capturing underlying structures through clustering, the model gains additional information, potentially improving its ability to discern between different classes.\n",
        "\n",
        "\n",
        "Clustering occurs in four steps:\n",
        "\n",
        "- Step 1: Data preparation\n",
        "- Step 2: Applying k-means\n",
        "- Step 3: Visualizing the clusters\n",
        "- Step 4: Making predictions\n",
        "\n",
        "We have a dataset on mall segmentation. Our goal is to perform customer segmentation using K-means clustering. Customer segmentation involves grouping customers with similar characteristics together, which can be valuable for targeted marketing and personalized services."
      ],
      "metadata": {
        "id": "G9DD74GyS-UH"
      }
    },
    {
      "cell_type": "code",
      "execution_count": 1,
      "metadata": {
        "colab": {
          "base_uri": "https://localhost:8080/"
        },
        "id": "2PTu1TDmR3Gz",
        "outputId": "21955987-b6d5-497b-b89a-9400c51e60bc"
      },
      "outputs": [
        {
          "output_type": "stream",
          "name": "stdout",
          "text": [
            "Collecting kmeans-pytorch\n",
            "  Downloading kmeans_pytorch-0.3-py3-none-any.whl.metadata (1.6 kB)\n",
            "Downloading kmeans_pytorch-0.3-py3-none-any.whl (4.4 kB)\n",
            "Installing collected packages: kmeans-pytorch\n",
            "Successfully installed kmeans-pytorch-0.3\n"
          ]
        }
      ],
      "source": [
        "# Installing k-means for PyTorch\n",
        "!pip install kmeans-pytorch"
      ]
    },
    {
      "cell_type": "code",
      "source": [
        "# Loading the necessary libraries from k-means\n",
        "from kmeans_pytorch import kmeans, kmeans_predict"
      ],
      "metadata": {
        "id": "BO-cOMRITgWR"
      },
      "execution_count": 2,
      "outputs": []
    },
    {
      "cell_type": "markdown",
      "source": [
        "### Step 1: Data preparation"
      ],
      "metadata": {
        "id": "absKNmajTuY8"
      }
    },
    {
      "cell_type": "code",
      "source": [
        "# Loading our dataset\n",
        "import pandas as pd\n",
        "import numpy as np\n",
        "import torch\n",
        "import matplotlib.pyplot as plt\n",
        "import seaborn as sns\n",
        "\n",
        "# Load the dataset\n",
        "df = pd.read_csv('https://bit.ly/4bjrKs7')\n",
        "\n",
        "df.head()"
      ],
      "metadata": {
        "colab": {
          "base_uri": "https://localhost:8080/",
          "height": 206
        },
        "id": "lAGnrN9tTjmq",
        "outputId": "edf46fdd-774a-4169-a787-6e1b8183d118"
      },
      "execution_count": 5,
      "outputs": [
        {
          "output_type": "execute_result",
          "data": {
            "text/plain": [
              "   CustomerID  Gender  Age  Annual Income (k$)  Spending Score (1-100)\n",
              "0           1    Male   19                  15                      39\n",
              "1           2    Male   21                  15                      81\n",
              "2           3  Female   20                  16                       6\n",
              "3           4  Female   23                  16                      77\n",
              "4           5  Female   31                  17                      40"
            ],
            "text/html": [
              "\n",
              "  <div id=\"df-7db2c60a-c398-40ef-9d0d-e980cdd90acb\" class=\"colab-df-container\">\n",
              "    <div>\n",
              "<style scoped>\n",
              "    .dataframe tbody tr th:only-of-type {\n",
              "        vertical-align: middle;\n",
              "    }\n",
              "\n",
              "    .dataframe tbody tr th {\n",
              "        vertical-align: top;\n",
              "    }\n",
              "\n",
              "    .dataframe thead th {\n",
              "        text-align: right;\n",
              "    }\n",
              "</style>\n",
              "<table border=\"1\" class=\"dataframe\">\n",
              "  <thead>\n",
              "    <tr style=\"text-align: right;\">\n",
              "      <th></th>\n",
              "      <th>CustomerID</th>\n",
              "      <th>Gender</th>\n",
              "      <th>Age</th>\n",
              "      <th>Annual Income (k$)</th>\n",
              "      <th>Spending Score (1-100)</th>\n",
              "    </tr>\n",
              "  </thead>\n",
              "  <tbody>\n",
              "    <tr>\n",
              "      <th>0</th>\n",
              "      <td>1</td>\n",
              "      <td>Male</td>\n",
              "      <td>19</td>\n",
              "      <td>15</td>\n",
              "      <td>39</td>\n",
              "    </tr>\n",
              "    <tr>\n",
              "      <th>1</th>\n",
              "      <td>2</td>\n",
              "      <td>Male</td>\n",
              "      <td>21</td>\n",
              "      <td>15</td>\n",
              "      <td>81</td>\n",
              "    </tr>\n",
              "    <tr>\n",
              "      <th>2</th>\n",
              "      <td>3</td>\n",
              "      <td>Female</td>\n",
              "      <td>20</td>\n",
              "      <td>16</td>\n",
              "      <td>6</td>\n",
              "    </tr>\n",
              "    <tr>\n",
              "      <th>3</th>\n",
              "      <td>4</td>\n",
              "      <td>Female</td>\n",
              "      <td>23</td>\n",
              "      <td>16</td>\n",
              "      <td>77</td>\n",
              "    </tr>\n",
              "    <tr>\n",
              "      <th>4</th>\n",
              "      <td>5</td>\n",
              "      <td>Female</td>\n",
              "      <td>31</td>\n",
              "      <td>17</td>\n",
              "      <td>40</td>\n",
              "    </tr>\n",
              "  </tbody>\n",
              "</table>\n",
              "</div>\n",
              "    <div class=\"colab-df-buttons\">\n",
              "\n",
              "  <div class=\"colab-df-container\">\n",
              "    <button class=\"colab-df-convert\" onclick=\"convertToInteractive('df-7db2c60a-c398-40ef-9d0d-e980cdd90acb')\"\n",
              "            title=\"Convert this dataframe to an interactive table.\"\n",
              "            style=\"display:none;\">\n",
              "\n",
              "  <svg xmlns=\"http://www.w3.org/2000/svg\" height=\"24px\" viewBox=\"0 -960 960 960\">\n",
              "    <path d=\"M120-120v-720h720v720H120Zm60-500h600v-160H180v160Zm220 220h160v-160H400v160Zm0 220h160v-160H400v160ZM180-400h160v-160H180v160Zm440 0h160v-160H620v160ZM180-180h160v-160H180v160Zm440 0h160v-160H620v160Z\"/>\n",
              "  </svg>\n",
              "    </button>\n",
              "\n",
              "  <style>\n",
              "    .colab-df-container {\n",
              "      display:flex;\n",
              "      gap: 12px;\n",
              "    }\n",
              "\n",
              "    .colab-df-convert {\n",
              "      background-color: #E8F0FE;\n",
              "      border: none;\n",
              "      border-radius: 50%;\n",
              "      cursor: pointer;\n",
              "      display: none;\n",
              "      fill: #1967D2;\n",
              "      height: 32px;\n",
              "      padding: 0 0 0 0;\n",
              "      width: 32px;\n",
              "    }\n",
              "\n",
              "    .colab-df-convert:hover {\n",
              "      background-color: #E2EBFA;\n",
              "      box-shadow: 0px 1px 2px rgba(60, 64, 67, 0.3), 0px 1px 3px 1px rgba(60, 64, 67, 0.15);\n",
              "      fill: #174EA6;\n",
              "    }\n",
              "\n",
              "    .colab-df-buttons div {\n",
              "      margin-bottom: 4px;\n",
              "    }\n",
              "\n",
              "    [theme=dark] .colab-df-convert {\n",
              "      background-color: #3B4455;\n",
              "      fill: #D2E3FC;\n",
              "    }\n",
              "\n",
              "    [theme=dark] .colab-df-convert:hover {\n",
              "      background-color: #434B5C;\n",
              "      box-shadow: 0px 1px 3px 1px rgba(0, 0, 0, 0.15);\n",
              "      filter: drop-shadow(0px 1px 2px rgba(0, 0, 0, 0.3));\n",
              "      fill: #FFFFFF;\n",
              "    }\n",
              "  </style>\n",
              "\n",
              "    <script>\n",
              "      const buttonEl =\n",
              "        document.querySelector('#df-7db2c60a-c398-40ef-9d0d-e980cdd90acb button.colab-df-convert');\n",
              "      buttonEl.style.display =\n",
              "        google.colab.kernel.accessAllowed ? 'block' : 'none';\n",
              "\n",
              "      async function convertToInteractive(key) {\n",
              "        const element = document.querySelector('#df-7db2c60a-c398-40ef-9d0d-e980cdd90acb');\n",
              "        const dataTable =\n",
              "          await google.colab.kernel.invokeFunction('convertToInteractive',\n",
              "                                                    [key], {});\n",
              "        if (!dataTable) return;\n",
              "\n",
              "        const docLinkHtml = 'Like what you see? Visit the ' +\n",
              "          '<a target=\"_blank\" href=https://colab.research.google.com/notebooks/data_table.ipynb>data table notebook</a>'\n",
              "          + ' to learn more about interactive tables.';\n",
              "        element.innerHTML = '';\n",
              "        dataTable['output_type'] = 'display_data';\n",
              "        await google.colab.output.renderOutput(dataTable, element);\n",
              "        const docLink = document.createElement('div');\n",
              "        docLink.innerHTML = docLinkHtml;\n",
              "        element.appendChild(docLink);\n",
              "      }\n",
              "    </script>\n",
              "  </div>\n",
              "\n",
              "\n",
              "<div id=\"df-6f93899a-af28-467c-bf93-8bef06136d0a\">\n",
              "  <button class=\"colab-df-quickchart\" onclick=\"quickchart('df-6f93899a-af28-467c-bf93-8bef06136d0a')\"\n",
              "            title=\"Suggest charts\"\n",
              "            style=\"display:none;\">\n",
              "\n",
              "<svg xmlns=\"http://www.w3.org/2000/svg\" height=\"24px\"viewBox=\"0 0 24 24\"\n",
              "     width=\"24px\">\n",
              "    <g>\n",
              "        <path d=\"M19 3H5c-1.1 0-2 .9-2 2v14c0 1.1.9 2 2 2h14c1.1 0 2-.9 2-2V5c0-1.1-.9-2-2-2zM9 17H7v-7h2v7zm4 0h-2V7h2v10zm4 0h-2v-4h2v4z\"/>\n",
              "    </g>\n",
              "</svg>\n",
              "  </button>\n",
              "\n",
              "<style>\n",
              "  .colab-df-quickchart {\n",
              "      --bg-color: #E8F0FE;\n",
              "      --fill-color: #1967D2;\n",
              "      --hover-bg-color: #E2EBFA;\n",
              "      --hover-fill-color: #174EA6;\n",
              "      --disabled-fill-color: #AAA;\n",
              "      --disabled-bg-color: #DDD;\n",
              "  }\n",
              "\n",
              "  [theme=dark] .colab-df-quickchart {\n",
              "      --bg-color: #3B4455;\n",
              "      --fill-color: #D2E3FC;\n",
              "      --hover-bg-color: #434B5C;\n",
              "      --hover-fill-color: #FFFFFF;\n",
              "      --disabled-bg-color: #3B4455;\n",
              "      --disabled-fill-color: #666;\n",
              "  }\n",
              "\n",
              "  .colab-df-quickchart {\n",
              "    background-color: var(--bg-color);\n",
              "    border: none;\n",
              "    border-radius: 50%;\n",
              "    cursor: pointer;\n",
              "    display: none;\n",
              "    fill: var(--fill-color);\n",
              "    height: 32px;\n",
              "    padding: 0;\n",
              "    width: 32px;\n",
              "  }\n",
              "\n",
              "  .colab-df-quickchart:hover {\n",
              "    background-color: var(--hover-bg-color);\n",
              "    box-shadow: 0 1px 2px rgba(60, 64, 67, 0.3), 0 1px 3px 1px rgba(60, 64, 67, 0.15);\n",
              "    fill: var(--button-hover-fill-color);\n",
              "  }\n",
              "\n",
              "  .colab-df-quickchart-complete:disabled,\n",
              "  .colab-df-quickchart-complete:disabled:hover {\n",
              "    background-color: var(--disabled-bg-color);\n",
              "    fill: var(--disabled-fill-color);\n",
              "    box-shadow: none;\n",
              "  }\n",
              "\n",
              "  .colab-df-spinner {\n",
              "    border: 2px solid var(--fill-color);\n",
              "    border-color: transparent;\n",
              "    border-bottom-color: var(--fill-color);\n",
              "    animation:\n",
              "      spin 1s steps(1) infinite;\n",
              "  }\n",
              "\n",
              "  @keyframes spin {\n",
              "    0% {\n",
              "      border-color: transparent;\n",
              "      border-bottom-color: var(--fill-color);\n",
              "      border-left-color: var(--fill-color);\n",
              "    }\n",
              "    20% {\n",
              "      border-color: transparent;\n",
              "      border-left-color: var(--fill-color);\n",
              "      border-top-color: var(--fill-color);\n",
              "    }\n",
              "    30% {\n",
              "      border-color: transparent;\n",
              "      border-left-color: var(--fill-color);\n",
              "      border-top-color: var(--fill-color);\n",
              "      border-right-color: var(--fill-color);\n",
              "    }\n",
              "    40% {\n",
              "      border-color: transparent;\n",
              "      border-right-color: var(--fill-color);\n",
              "      border-top-color: var(--fill-color);\n",
              "    }\n",
              "    60% {\n",
              "      border-color: transparent;\n",
              "      border-right-color: var(--fill-color);\n",
              "    }\n",
              "    80% {\n",
              "      border-color: transparent;\n",
              "      border-right-color: var(--fill-color);\n",
              "      border-bottom-color: var(--fill-color);\n",
              "    }\n",
              "    90% {\n",
              "      border-color: transparent;\n",
              "      border-bottom-color: var(--fill-color);\n",
              "    }\n",
              "  }\n",
              "</style>\n",
              "\n",
              "  <script>\n",
              "    async function quickchart(key) {\n",
              "      const quickchartButtonEl =\n",
              "        document.querySelector('#' + key + ' button');\n",
              "      quickchartButtonEl.disabled = true;  // To prevent multiple clicks.\n",
              "      quickchartButtonEl.classList.add('colab-df-spinner');\n",
              "      try {\n",
              "        const charts = await google.colab.kernel.invokeFunction(\n",
              "            'suggestCharts', [key], {});\n",
              "      } catch (error) {\n",
              "        console.error('Error during call to suggestCharts:', error);\n",
              "      }\n",
              "      quickchartButtonEl.classList.remove('colab-df-spinner');\n",
              "      quickchartButtonEl.classList.add('colab-df-quickchart-complete');\n",
              "    }\n",
              "    (() => {\n",
              "      let quickchartButtonEl =\n",
              "        document.querySelector('#df-6f93899a-af28-467c-bf93-8bef06136d0a button');\n",
              "      quickchartButtonEl.style.display =\n",
              "        google.colab.kernel.accessAllowed ? 'block' : 'none';\n",
              "    })();\n",
              "  </script>\n",
              "</div>\n",
              "\n",
              "    </div>\n",
              "  </div>\n"
            ],
            "application/vnd.google.colaboratory.intrinsic+json": {
              "type": "dataframe",
              "variable_name": "df",
              "summary": "{\n  \"name\": \"df\",\n  \"rows\": 200,\n  \"fields\": [\n    {\n      \"column\": \"CustomerID\",\n      \"properties\": {\n        \"dtype\": \"number\",\n        \"std\": 57,\n        \"min\": 1,\n        \"max\": 200,\n        \"num_unique_values\": 200,\n        \"samples\": [\n          96,\n          16,\n          31\n        ],\n        \"semantic_type\": \"\",\n        \"description\": \"\"\n      }\n    },\n    {\n      \"column\": \"Gender\",\n      \"properties\": {\n        \"dtype\": \"category\",\n        \"num_unique_values\": 2,\n        \"samples\": [\n          \"Female\",\n          \"Male\"\n        ],\n        \"semantic_type\": \"\",\n        \"description\": \"\"\n      }\n    },\n    {\n      \"column\": \"Age\",\n      \"properties\": {\n        \"dtype\": \"number\",\n        \"std\": 13,\n        \"min\": 18,\n        \"max\": 70,\n        \"num_unique_values\": 51,\n        \"samples\": [\n          55,\n          26\n        ],\n        \"semantic_type\": \"\",\n        \"description\": \"\"\n      }\n    },\n    {\n      \"column\": \"Annual Income (k$)\",\n      \"properties\": {\n        \"dtype\": \"number\",\n        \"std\": 26,\n        \"min\": 15,\n        \"max\": 137,\n        \"num_unique_values\": 64,\n        \"samples\": [\n          87,\n          101\n        ],\n        \"semantic_type\": \"\",\n        \"description\": \"\"\n      }\n    },\n    {\n      \"column\": \"Spending Score (1-100)\",\n      \"properties\": {\n        \"dtype\": \"number\",\n        \"std\": 25,\n        \"min\": 1,\n        \"max\": 99,\n        \"num_unique_values\": 84,\n        \"samples\": [\n          83,\n          39\n        ],\n        \"semantic_type\": \"\",\n        \"description\": \"\"\n      }\n    }\n  ]\n}"
            }
          },
          "metadata": {},
          "execution_count": 5
        }
      ]
    },
    {
      "cell_type": "markdown",
      "source": [
        "We extract relevant features in order to create more effective interpretable, and computationally efficient models."
      ],
      "metadata": {
        "id": "HEfdcRbrTpck"
      }
    },
    {
      "cell_type": "code",
      "source": [
        "# Extract relevant features and convert them to a PyTorch tensor.\n",
        "features = df[['Annual Income (k$)', 'Spending Score (1-100)']].to_numpy()\n"
      ],
      "metadata": {
        "id": "a-hbtsnJTqSy"
      },
      "execution_count": 6,
      "outputs": []
    },
    {
      "cell_type": "code",
      "source": [
        "# Convert the NumPy array to a PyTorch tensor\n",
        "data_tensor = torch.tensor(features, dtype=torch.float32)"
      ],
      "metadata": {
        "id": "DEa3bG5yTzop"
      },
      "execution_count": 7,
      "outputs": []
    },
    {
      "cell_type": "markdown",
      "source": [
        "### Step 2: Applying k-means"
      ],
      "metadata": {
        "id": "ZmtxZ8pjT27y"
      }
    },
    {
      "cell_type": "markdown",
      "source": [
        "We now perform k-means clustering using the kmeans function from the kmeans_pytorch library.\n",
        "\n",
        "- Cluster_ids contains the cluster assignments for each data point, and - cluster_centers contains the coordinates of the cluster centers.\n",
        "Setting the num_clusters to 5 suggests that we want to partition your data into 5 distinct groups or clusters."
      ],
      "metadata": {
        "id": "xyf9S1zAT_E5"
      }
    },
    {
      "cell_type": "code",
      "source": [
        "# Let's create our clusters.\n",
        "num_clusters = 5\n",
        "\n",
        "cluster_ids, cluster_centers = kmeans(data_tensor, num_clusters=num_clusters)"
      ],
      "metadata": {
        "colab": {
          "base_uri": "https://localhost:8080/"
        },
        "id": "X6MHuILPT5vi",
        "outputId": "37f91ffa-f242-4603-ed77-9b8df0d7b9be"
      },
      "execution_count": 8,
      "outputs": [
        {
          "output_type": "stream",
          "name": "stdout",
          "text": [
            "running k-means on cpu..\n"
          ]
        },
        {
          "output_type": "stream",
          "name": "stderr",
          "text": [
            "[running kmeans]: 5it [00:00, 37.72it/s, center_shift=0.000000, iteration=5, tol=0.000100]\n"
          ]
        }
      ]
    },
    {
      "cell_type": "markdown",
      "source": [
        "The silhouette score is a measure of how well-defined and separated the clusters are in a clustering solution. The silhouette score ranges from -1 to 1. A high silhouette score (close to 1) indicates that the object is well matched to its own cluster and poorly matched to neighboring clusters. We can play around with the num_clusters to determine the number with the silhouette closest to 1."
      ],
      "metadata": {
        "id": "_wa3Lnd4UMeL"
      }
    },
    {
      "cell_type": "code",
      "source": [
        "# Calculate silhouette score to evaluate our clusters.\n",
        "from sklearn.metrics import adjusted_rand_score, silhouette_score\n",
        "\n",
        "sil_score = silhouette_score(data_tensor.numpy(), cluster_ids.numpy())\n",
        "\n",
        "print(f\"Silhouette Score for {num_clusters} clusters: {sil_score}\")"
      ],
      "metadata": {
        "colab": {
          "base_uri": "https://localhost:8080/"
        },
        "id": "4ffNk2fhUPMG",
        "outputId": "2f1b09e3-7d09-44c2-92df-6c8db5cf0384"
      },
      "execution_count": 9,
      "outputs": [
        {
          "output_type": "stream",
          "name": "stdout",
          "text": [
            "Silhouette Score for 5 clusters: 0.5532176494598389\n"
          ]
        }
      ]
    },
    {
      "cell_type": "markdown",
      "source": [
        "### Step 3: Cluster visualization"
      ],
      "metadata": {
        "id": "f2Zim4KJUQ-Y"
      }
    },
    {
      "cell_type": "markdown",
      "source": [
        "Visualizing clusters is important for gaining insights, validating results, and communicating findings effectively. It complements quantitative metrics and enhances the overall understanding of the data structure and clustering outcomes.\n",
        "\n",
        "- We plot the data points in the feature space, where x=features[:, 0] represents the 'Annual Income' and y=features[:, 1] represents the 'Spending Score'.\n",
        "- The color of each point is determined by its cluster assignment (hue=cluster_ids.numpy()), and the color palette 'viridis' is used.\n",
        "- The centroids are marked with red 'X' markers. The s=200 parameter controls the size of the markers."
      ],
      "metadata": {
        "id": "wrfSVqT1UY2K"
      }
    },
    {
      "cell_type": "code",
      "source": [
        "# Let's visualize our clusters\n",
        "sns.scatterplot(x=features[:, 0], y=features[:, 1], hue=cluster_ids.numpy(), palette='viridis')\n",
        "\n",
        "plt.scatter(cluster_centers[:, 0], cluster_centers[:, 1], c='red', marker='X', s=200, label='Centroids')\n",
        "\n",
        "plt.title('K-Means Clustering on Mall Customer Segmentation')\n",
        "\n",
        "plt.legend()\n",
        "\n",
        "plt.show()"
      ],
      "metadata": {
        "colab": {
          "base_uri": "https://localhost:8080/",
          "height": 452
        },
        "id": "irUbVQWZUWnp",
        "outputId": "27abd853-8d07-440f-95b9-096fad06c655"
      },
      "execution_count": 10,
      "outputs": [
        {
          "output_type": "display_data",
          "data": {
            "text/plain": [
              "<Figure size 640x480 with 1 Axes>"
            ],
            "image/png": "[encoded data removed]"
          },
          "metadata": {}
        }
      ]
    },
    {
      "cell_type": "markdown",
      "source": [
        "### Step 4: Making predictions"
      ],
      "metadata": {
        "id": "A8mNf8jJUfpc"
      }
    },
    {
      "cell_type": "markdown",
      "source": [
        "Finally, we can evaluate our model by clustering a new data point (20, 60): an individual with annual income of 20 and spending score of 60."
      ],
      "metadata": {
        "id": "XQ7pOrgdUnXs"
      }
    },
    {
      "cell_type": "code",
      "source": [
        "# Inference on a new data point.\n",
        "new_data_point = np.array([[20, 60]])\n",
        "\n",
        "# Convert the standardized new data point to a PyTorch tensor.\n",
        "new_data_tensor = torch.tensor(new_data_point, dtype=torch.float32)\n",
        "\n",
        "# Calculate Euclidean distances to cluster centers.\n",
        "distances = torch.norm(cluster_centers - new_data_tensor, dim=1)\n",
        "\n",
        "# Get the index of the closest cluster.\n",
        "predicted_cluster_label = torch.argmin(distances).item()\n",
        "\n",
        "print(f'The predicted cluster for the new data point is: {predicted_cluster_label}')"
      ],
      "metadata": {
        "colab": {
          "base_uri": "https://localhost:8080/"
        },
        "id": "buK7mSw5UqUg",
        "outputId": "eb641931-86ae-4c70-9d9d-213f026fd5b5"
      },
      "execution_count": 11,
      "outputs": [
        {
          "output_type": "stream",
          "name": "stdout",
          "text": [
            "The predicted cluster for the new data point is: 0\n"
          ]
        }
      ]
    }
  ]
}